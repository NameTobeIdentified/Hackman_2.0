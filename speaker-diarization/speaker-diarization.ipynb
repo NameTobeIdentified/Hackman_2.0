{
 "cells": [
  {
   "cell_type": "code",
   "execution_count": 1,
   "metadata": {},
   "outputs": [
    {
     "name": "stdout",
     "output_type": "stream",
     "text": [
      "[MoviePy] Writing audio in theaudio.wav\n"
     ]
    },
    {
     "name": "stderr",
     "output_type": "stream",
     "text": [
      "100%|██████████████████████████████████████████████████████████████████████████████| 949/949 [00:00<00:00, 1667.08it/s]\n"
     ]
    },
    {
     "name": "stdout",
     "output_type": "stream",
     "text": [
      "[MoviePy] Done.\n",
      "you've now been the CEO of apple %HESITATION since about July of two thousand eleven %HESITATION the earnings are up about eighty percent so have you ever thought you can't do better than this and maybe you should just say well I've done a great job and now would do something else with my wife we view the the stock price and revenues and profits as a result of doing %HESITATION things right on the innovation side %HESITATION on the creativity side %HESITATION focusing the right products %HESITATION treating customers like their jewels and and focusing on the user experience I don't even know the numbers that you just quoted as if this is not something that I that's not even in my orbit to be honest with \n",
      "{0, 1}\n",
      "Speaker 0 : you've now been the CEO of apple %HESITATION since about July of two thousand eleven %HESITATION the earnings are up about eighty percent so have you ever thought you can't do better than this and maybe you should just say well I've done a great job and now would do something else with my wife \n",
      "Speaker 1 : we view the the stock price and revenues and profits as a result of doing %HESITATION things right on the innovation side %HESITATION on the creativity side %HESITATION focusing the right products %HESITATION treating customers like their jewels and and focusing on the user experience I don't even know the numbers that you just quoted as if this is not something that I that's not even in my orbit to be honest with "
     ]
    }
   ],
   "source": [
    "import json\n",
    "from watson_developer_cloud import SpeechToTextV1\n",
    "import moviepy.editor as mp\n",
    "\n",
    "clip = mp.VideoFileClip(\"sample_interview.mp4\").subclip(94,137)\n",
    "clip.audio.write_audiofile(\"theaudio.wav\")\n",
    "service = SpeechToTextV1(\n",
    "    url = 'https://gateway-syd.watsonplatform.net/speech-to-text/api',\n",
    "    iam_apikey = 'GxPN0hJ8oFWvOslvJ3t10S3-GcBf1vY1Ut1fFi4psNHA'\n",
    ")\n",
    "\n",
    "with open('./theaudio.wav','rb') as audio_file:\n",
    "    output = json.dumps(\n",
    "        service.recognize(\n",
    "            audio=audio_file,\n",
    "            content_type='audio/wav',\n",
    "            timestamps=True,\n",
    "            speaker_labels=True,\n",
    "            word_confidence=True).get_result(),\n",
    "            indent=2)\n",
    "\n",
    "output_dict = json.loads(output)\n",
    "print(output_dict['results'][0]['alternatives'][0]['transcript'])\n",
    "\n",
    "speakers = set()\n",
    "for i in output_dict['speaker_labels']:\n",
    "    speakers.add(i['speaker'])\n",
    "print(speakers)\n",
    "speakers = list(speakers)\n",
    "\n",
    "timestamps = output_dict['results'][0]['alternatives'][0]['timestamps']\n",
    "\n",
    "speaker_timestamps = output_dict['speaker_labels']\n",
    "\n",
    "current_speaker = 0\n",
    "print('Speaker',speakers[0],':', end = \" \")\n",
    "for i,j in zip(timestamps,speaker_timestamps):\n",
    "    if ( (i[1],i[2]) == (j['from'],j['to']) ):\n",
    "        if j['speaker'] != current_speaker:\n",
    "            current_speaker = j['speaker']\n",
    "            print('\\nSpeaker', j['speaker'],':',i[0], end =\" \")\n",
    "            \n",
    "        elif j['speaker'] == current_speaker:\n",
    "            print(i[0], end =\" \")"
   ]
  }
 ],
 "metadata": {
  "kernelspec": {
   "display_name": "Python 3",
   "language": "python",
   "name": "python3"
  },
  "language_info": {
   "codemirror_mode": {
    "name": "ipython",
    "version": 3
   },
   "file_extension": ".py",
   "mimetype": "text/x-python",
   "name": "python",
   "nbconvert_exporter": "python",
   "pygments_lexer": "ipython3",
   "version": "3.7.1"
  }
 },
 "nbformat": 4,
 "nbformat_minor": 2
}
